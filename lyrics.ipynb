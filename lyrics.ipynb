{
 "cells": [
  {
   "cell_type": "code",
   "execution_count": 1,
   "metadata": {},
   "outputs": [],
   "source": [
    "import pandas as pd\n",
    "import csv\n",
    "import tensorflow as tf\n",
    "import tensorflow_hub as hub\n",
    "from tensorflow.keras.models import Sequential\n",
    "from tensorflow.keras.layers import Lambda, LSTM, Dense, Dropout, Input\n",
    "import os\n",
    "import re"
   ]
  },
  {
   "cell_type": "markdown",
   "metadata": {},
   "source": [
    "## Data Preprocessing"
   ]
  },
  {
   "cell_type": "code",
   "execution_count": null,
   "metadata": {},
   "outputs": [],
   "source": [
    "fin_fil_df = pd.read_pickle('fin.pkl')"
   ]
  },
  {
   "cell_type": "code",
   "execution_count": 19,
   "metadata": {},
   "outputs": [],
   "source": [
    "directory_path = 'data/music4all_subset/lyrics'\n",
    "file_prefixes = fin_fil_df['id'].tolist()\n",
    "lyrics_d = {}\n",
    "lyrics_l = []\n",
    "for prefix in file_prefixes:\n",
    "    file_pattern = prefix + '.txt'\n",
    "    file_path = os.path.join(directory_path, file_pattern)\n",
    "    if os.path.exists(file_path):\n",
    "        with open(file_path, 'r') as file:\n",
    "            content = file.read()\n",
    "            lyrics_d[prefix] = content\n",
    "            lyrics_l.append(content)\n",
    "            # print(f\"Content of {file_pattern}:\\n{content}\")"
   ]
  },
  {
   "cell_type": "code",
   "execution_count": null,
   "metadata": {},
   "outputs": [],
   "source": [
    "def preprocess_lyrics(lyli):\n",
    "    def prep_single(ly):\n",
    "        text = re.sub(r'[^\\w\\s]', '', ly).lower()\n",
    "        text = text.replace('\\n', ' ')\n",
    "        text = re.sub(' +', ' ', text)\n",
    "        return text\n",
    "    new = [prep_single(l) for l in lyli]\n",
    "    return new"
   ]
  },
  {
   "cell_type": "code",
   "execution_count": null,
   "metadata": {},
   "outputs": [],
   "source": [
    "prep_lyrics = preprocess_lyrics(lyrics_l)"
   ]
  },
  {
   "cell_type": "code",
   "execution_count": null,
   "metadata": {},
   "outputs": [],
   "source": [
    "elmo = hub.load('https://tfhub.dev/google/elmo/2').signatures['default']"
   ]
  },
  {
   "cell_type": "code",
   "execution_count": null,
   "metadata": {},
   "outputs": [],
   "source": [
    "embeddings = elmo(tf.constant(prep_lyrics))['elmo']"
   ]
  }
 ],
 "metadata": {
  "kernelspec": {
   "display_name": "cs6220",
   "language": "python",
   "name": "python3"
  },
  "language_info": {
   "codemirror_mode": {
    "name": "ipython",
    "version": 3
   },
   "file_extension": ".py",
   "mimetype": "text/x-python",
   "name": "python",
   "nbconvert_exporter": "python",
   "pygments_lexer": "ipython3",
   "version": "3.10.12"
  }
 },
 "nbformat": 4,
 "nbformat_minor": 2
}
