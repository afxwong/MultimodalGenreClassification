{
 "cells": [
  {
   "cell_type": "code",
   "execution_count": 1,
   "id": "1cf3f3ad-89ba-46d3-a636-6e5b90c989d4",
   "metadata": {},
   "outputs": [],
   "source": [
    "import pandas as pd\n",
    "import csv\n",
    "import tensorflow as tf\n",
    "import tensorflow_hub as hub\n",
    "from tensorflow.keras.models import Sequential\n",
    "from tensorflow.keras.layers import Lambda, LSTM, Dense, Dropout, Input, Bidirectional\n",
    "from tensorflow.keras.layers import Embedding\n",
    "from tensorflow.keras.preprocessing.text import Tokenizer\n",
    "from tensorflow.keras.preprocessing import sequence\n",
    "from tensorflow.keras.preprocessing.sequence import pad_sequences\n",
    "from gensim.models import Word2Vec\n",
    "from gensim.test.utils import simple_preprocess\n",
    "import os\n",
    "import re\n",
    "import pickle\n",
    "from transformers import BertTokenizer\n",
    "from sklearn.model_selection import train_test_split\n",
    "import numpy as np\n",
    "from sklearn.preprocessing import LabelEncoder\n",
    "from tensorflow.keras.callbacks import ModelCheckpoint, EarlyStopping, TensorBoard\n",
    "from numba import cuda "
   ]
  },
  {
   "cell_type": "code",
   "execution_count": 2,
   "id": "7fe7dc58-9652-4443-9a56-c0a45fbc0fd5",
   "metadata": {},
   "outputs": [
    {
     "name": "stdout",
     "output_type": "stream",
     "text": [
      "WARNING:tensorflow:From C:\\Users\\Austin\\AppData\\Local\\Temp\\ipykernel_16540\\1897261821.py:1: is_gpu_available (from tensorflow.python.framework.test_util) is deprecated and will be removed in a future version.\n",
      "Instructions for updating:\n",
      "Use `tf.config.list_physical_devices('GPU')` instead.\n",
      "True\n",
      "[PhysicalDevice(name='/physical_device:GPU:0', device_type='GPU')]\n"
     ]
    }
   ],
   "source": [
    "print(tf.test.is_gpu_available())\n",
    "print(tf.config.list_physical_devices('GPU'))"
   ]
  },
  {
   "cell_type": "code",
   "execution_count": 4,
   "id": "86b94ee3-fea9-4205-b750-31a4d9419b23",
   "metadata": {},
   "outputs": [],
   "source": [
    "lyric_model = tf.keras.models.load_model('models/w2v_dense.h5')"
   ]
  },
  {
   "cell_type": "code",
   "execution_count": 5,
   "id": "237354a2-4c96-4876-bd35-cb2e7aecb300",
   "metadata": {},
   "outputs": [],
   "source": [
    "features_model = tf.keras.models.load_model('models/features_dense.h5')"
   ]
  },
  {
   "cell_type": "code",
   "execution_count": null,
   "id": "218389d4-ab3e-4cdb-a476-afc0181b3a50",
   "metadata": {},
   "outputs": [],
   "source": []
  }
 ],
 "metadata": {
  "kernelspec": {
   "display_name": "Python 3 (ipykernel)",
   "language": "python",
   "name": "python3"
  },
  "language_info": {
   "codemirror_mode": {
    "name": "ipython",
    "version": 3
   },
   "file_extension": ".py",
   "mimetype": "text/x-python",
   "name": "python",
   "nbconvert_exporter": "python",
   "pygments_lexer": "ipython3",
   "version": "3.8.8"
  }
 },
 "nbformat": 4,
 "nbformat_minor": 5
}
