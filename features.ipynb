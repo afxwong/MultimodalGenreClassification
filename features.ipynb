{
 "cells": [
  {
   "cell_type": "code",
   "execution_count": 50,
   "id": "39ef52c0-746b-462b-9608-109f7fd0dad6",
   "metadata": {},
   "outputs": [],
   "source": [
    "import pandas as pd\n",
    "import csv\n",
    "import tensorflow as tf\n",
    "import tensorflow_hub as hub\n",
    "from tensorflow.keras.models import Sequential\n",
    "from tensorflow.keras.layers import Lambda, LSTM, Dense, Dropout, Input, Bidirectional\n",
    "from tensorflow.keras.layers import Embedding\n",
    "from tensorflow.keras.preprocessing.text import Tokenizer\n",
    "from tensorflow.keras.preprocessing import sequence\n",
    "from tensorflow.keras.preprocessing.sequence import pad_sequences\n",
    "from gensim.models import Word2Vec\n",
    "from gensim.test.utils import simple_preprocess\n",
    "from sklearn.preprocessing import StandardScaler  # For Z-score standardization\n",
    "import os\n",
    "import re\n",
    "import pickle\n",
    "from transformers import BertTokenizer\n",
    "from sklearn.model_selection import train_test_split\n",
    "import numpy as np\n",
    "from sklearn.preprocessing import LabelEncoder\n",
    "from tensorflow.keras.callbacks import ModelCheckpoint, EarlyStopping, TensorBoard\n",
    "from numba import cuda "
   ]
  },
  {
   "cell_type": "code",
   "execution_count": 2,
   "id": "42fba815-ef0d-40b1-96d3-b29f6466167c",
   "metadata": {},
   "outputs": [
    {
     "name": "stdout",
     "output_type": "stream",
     "text": [
      "WARNING:tensorflow:From C:\\Users\\Austin\\AppData\\Local\\Temp\\ipykernel_21060\\1897261821.py:1: is_gpu_available (from tensorflow.python.framework.test_util) is deprecated and will be removed in a future version.\n",
      "Instructions for updating:\n",
      "Use `tf.config.list_physical_devices('GPU')` instead.\n",
      "True\n",
      "[PhysicalDevice(name='/physical_device:GPU:0', device_type='GPU')]\n"
     ]
    }
   ],
   "source": [
    "print(tf.test.is_gpu_available())\n",
    "print(tf.config.list_physical_devices('GPU'))"
   ]
  },
  {
   "cell_type": "code",
   "execution_count": 3,
   "id": "8f1e79a1-5134-4e54-8265-2756a322a442",
   "metadata": {},
   "outputs": [],
   "source": [
    "fin_fil_df = pd.read_pickle('pickles/fin.pkl')"
   ]
  },
  {
   "cell_type": "code",
   "execution_count": 4,
   "id": "84d5b186-33bd-4b88-ac81-8de156506b43",
   "metadata": {},
   "outputs": [
    {
     "data": {
      "text/html": [
       "<div>\n",
       "<style scoped>\n",
       "    .dataframe tbody tr th:only-of-type {\n",
       "        vertical-align: middle;\n",
       "    }\n",
       "\n",
       "    .dataframe tbody tr th {\n",
       "        vertical-align: top;\n",
       "    }\n",
       "\n",
       "    .dataframe thead th {\n",
       "        text-align: right;\n",
       "    }\n",
       "</style>\n",
       "<table border=\"1\" class=\"dataframe\">\n",
       "  <thead>\n",
       "    <tr style=\"text-align: right;\">\n",
       "      <th></th>\n",
       "      <th>id</th>\n",
       "      <th>genre</th>\n",
       "    </tr>\n",
       "  </thead>\n",
       "  <tbody>\n",
       "    <tr>\n",
       "      <th>0</th>\n",
       "      <td>0009fFIM1eYThaPg</td>\n",
       "      <td>pop</td>\n",
       "    </tr>\n",
       "    <tr>\n",
       "      <th>2</th>\n",
       "      <td>002Jyd0vN4HyCpqL</td>\n",
       "      <td>classic rock</td>\n",
       "    </tr>\n",
       "    <tr>\n",
       "      <th>5</th>\n",
       "      <td>00CH4HJdxQQQbJfu</td>\n",
       "      <td>indie rock</td>\n",
       "    </tr>\n",
       "    <tr>\n",
       "      <th>8</th>\n",
       "      <td>00IeldeA9ijZOL0P</td>\n",
       "      <td>pop</td>\n",
       "    </tr>\n",
       "    <tr>\n",
       "      <th>10</th>\n",
       "      <td>00LuPWdOccBb09bW</td>\n",
       "      <td>alternative rock</td>\n",
       "    </tr>\n",
       "    <tr>\n",
       "      <th>...</th>\n",
       "      <td>...</td>\n",
       "      <td>...</td>\n",
       "    </tr>\n",
       "    <tr>\n",
       "      <th>109262</th>\n",
       "      <td>zzx8CWdM7qkxKQpC</td>\n",
       "      <td>indie rock</td>\n",
       "    </tr>\n",
       "    <tr>\n",
       "      <th>109265</th>\n",
       "      <td>zzz0n04uuTUA7fNh</td>\n",
       "      <td>pop</td>\n",
       "    </tr>\n",
       "    <tr>\n",
       "      <th>109266</th>\n",
       "      <td>zzzj3LYaZtYtbzSr</td>\n",
       "      <td>singer-songwriter</td>\n",
       "    </tr>\n",
       "    <tr>\n",
       "      <th>109267</th>\n",
       "      <td>zzznMjZAKnJJXQSj</td>\n",
       "      <td>pop</td>\n",
       "    </tr>\n",
       "    <tr>\n",
       "      <th>109268</th>\n",
       "      <td>zzzwh2ktIWjsR7xp</td>\n",
       "      <td>indie rock</td>\n",
       "    </tr>\n",
       "  </tbody>\n",
       "</table>\n",
       "<p>44860 rows × 2 columns</p>\n",
       "</div>"
      ],
      "text/plain": [
       "                      id              genre\n",
       "0       0009fFIM1eYThaPg                pop\n",
       "2       002Jyd0vN4HyCpqL       classic rock\n",
       "5       00CH4HJdxQQQbJfu         indie rock\n",
       "8       00IeldeA9ijZOL0P                pop\n",
       "10      00LuPWdOccBb09bW   alternative rock\n",
       "...                  ...                ...\n",
       "109262  zzx8CWdM7qkxKQpC         indie rock\n",
       "109265  zzz0n04uuTUA7fNh                pop\n",
       "109266  zzzj3LYaZtYtbzSr  singer-songwriter\n",
       "109267  zzznMjZAKnJJXQSj                pop\n",
       "109268  zzzwh2ktIWjsR7xp         indie rock\n",
       "\n",
       "[44860 rows x 2 columns]"
      ]
     },
     "execution_count": 4,
     "metadata": {},
     "output_type": "execute_result"
    }
   ],
   "source": [
    "fin_fil_df"
   ]
  },
  {
   "cell_type": "code",
   "execution_count": 15,
   "id": "fb18f2df-b76e-450a-ab7c-1f4899a1cf36",
   "metadata": {},
   "outputs": [],
   "source": [
    "rows = []\n",
    "csv_path = 'data/music4all_subset/id_metadata.csv'\n",
    "with open(csv_path, 'r', newline='') as csvfile:\n",
    "    csv_reader = csv.reader(csvfile)\n",
    "    \n",
    "    header = next(csv_reader)[0].split('\\t')\n",
    "    for row in csv_reader:\n",
    "        temp = row[0].split('\\t')\n",
    "        if len(row) > 2:\n",
    "            temp.extend(row[2:])\n",
    "        rows.append(temp)"
   ]
  },
  {
   "cell_type": "code",
   "execution_count": 25,
   "id": "4a3144d5-6b5a-473c-aae3-d6be57e0cc88",
   "metadata": {},
   "outputs": [],
   "source": [
    "full_metadata = pd.DataFrame(rows, columns=header)\n",
    "fil_metadata = full_metadata[full_metadata['id'].isin(fin_fil_df['id'])]\n",
    "fil_metadata = fil_metadata.drop(columns=['spotify_id', 'duration_ms', 'id'])"
   ]
  },
  {
   "cell_type": "code",
   "execution_count": 22,
   "id": "ea8c1fa9-2963-4299-83cf-2ed5a5cce3b2",
   "metadata": {},
   "outputs": [
    {
     "name": "stdout",
     "output_type": "stream",
     "text": [
      "['alternative rock' 'ambient' 'classic rock' 'electronic' 'folk'\n",
      " 'indie rock' 'metal' 'pop' 'rap' 'singer-songwriter' 'soul']\n"
     ]
    }
   ],
   "source": [
    "encoder = LabelEncoder()\n",
    "labels = fin_fil_df['genre']\n",
    "genre_labels = encoder.fit_transform(labels)\n",
    "print(encoder.classes_)"
   ]
  },
  {
   "cell_type": "code",
   "execution_count": 28,
   "id": "e1fed412-da28-4c99-85d6-658a88cb0c46",
   "metadata": {},
   "outputs": [
    {
     "data": {
      "text/plain": [
       "(44860, 8)"
      ]
     },
     "execution_count": 28,
     "metadata": {},
     "output_type": "execute_result"
    }
   ],
   "source": [
    "np.array(fil_metadata).shape"
   ]
  },
  {
   "cell_type": "code",
   "execution_count": 51,
   "id": "1843182d-8220-4624-a1a4-58dd8caa52ab",
   "metadata": {},
   "outputs": [],
   "source": [
    "scaler = StandardScaler()\n",
    "df_normalized = pd.DataFrame(scaler.fit_transform(fil_metadata.astype(float)), columns=fil_metadata.columns)"
   ]
  },
  {
   "cell_type": "code",
   "execution_count": 64,
   "id": "43cce316-3f02-4697-9b8c-c7d1234d4381",
   "metadata": {},
   "outputs": [],
   "source": [
    "X_train, X_test, y_train, y_test = train_test_split(df_normalized, genre_labels, test_size=0.2)"
   ]
  },
  {
   "cell_type": "code",
   "execution_count": 53,
   "id": "097d73dd-f39c-44b1-a18f-fb4d6a45cfdb",
   "metadata": {},
   "outputs": [
    {
     "data": {
      "text/plain": [
       "((35888, 8), (8972, 8))"
      ]
     },
     "execution_count": 53,
     "metadata": {},
     "output_type": "execute_result"
    }
   ],
   "source": [
    "X_train.shape, X_test.shape"
   ]
  },
  {
   "cell_type": "code",
   "execution_count": 65,
   "id": "e6694058-dd42-47e5-92f6-c5ed0f4f1485",
   "metadata": {},
   "outputs": [],
   "source": [
    "with open('pickles/features_ttsdata.pkl', 'wb') as f:\n",
    "    pickle.dump((X_train, X_test, y_train, y_test), f)"
   ]
  },
  {
   "cell_type": "code",
   "execution_count": 57,
   "id": "d1134b62-19ca-4de3-9369-e9cc3c268a82",
   "metadata": {},
   "outputs": [],
   "source": [
    "es_cb = EarlyStopping(monitor='val_loss', patience=3, verbose=1)\n",
    "def getModelCheckpoint(name):\n",
    "    return ModelCheckpoint(\n",
    "        filepath=f'models/{name}.h5',\n",
    "        save_best_only=True,\n",
    "        monitor='val_accuracy',\n",
    "        mode='max',\n",
    "        verbose=1\n",
    "    )"
   ]
  },
  {
   "cell_type": "code",
   "execution_count": 58,
   "id": "f8e8f556-0393-488f-9e97-50ba3f0c86cc",
   "metadata": {},
   "outputs": [],
   "source": [
    "model = tf.keras.Sequential([\n",
    "    Input(shape=(8,)),\n",
    "    Dense(128, activation='relu'),\n",
    "    Dense(64, activation='relu'),\n",
    "    Dense(11, activation='softmax')\n",
    "])\n",
    "\n",
    "model.compile(optimizer='adam', loss='sparse_categorical_crossentropy', metrics=['accuracy'])"
   ]
  },
  {
   "cell_type": "code",
   "execution_count": 59,
   "id": "b7165fd9-e89c-4db2-b3a0-e20a4f2a7b10",
   "metadata": {},
   "outputs": [
    {
     "name": "stdout",
     "output_type": "stream",
     "text": [
      "Epoch 1/30\n",
      "1116/1122 [============================>.] - ETA: 0s - loss: 1.7448 - accuracy: 0.3805\n",
      "Epoch 1: val_accuracy improved from -inf to 0.39857, saving model to models\\features_dense.h5\n",
      "1122/1122 [==============================] - 4s 4ms/step - loss: 1.7449 - accuracy: 0.3805 - val_loss: 1.6777 - val_accuracy: 0.3986\n",
      "Epoch 2/30\n",
      "1116/1122 [============================>.] - ETA: 0s - loss: 1.6639 - accuracy: 0.4038\n",
      "Epoch 2: val_accuracy improved from 0.39857 to 0.41173, saving model to models\\features_dense.h5\n",
      "1122/1122 [==============================] - 4s 3ms/step - loss: 1.6636 - accuracy: 0.4040 - val_loss: 1.6479 - val_accuracy: 0.4117\n",
      "Epoch 3/30\n",
      "1109/1122 [============================>.] - ETA: 0s - loss: 1.6475 - accuracy: 0.4095\n",
      "Epoch 3: val_accuracy did not improve from 0.41173\n",
      "1122/1122 [==============================] - 4s 3ms/step - loss: 1.6471 - accuracy: 0.4096 - val_loss: 1.6458 - val_accuracy: 0.4070\n",
      "Epoch 4/30\n",
      "1110/1122 [============================>.] - ETA: 0s - loss: 1.6368 - accuracy: 0.4127\n",
      "Epoch 4: val_accuracy did not improve from 0.41173\n",
      "1122/1122 [==============================] - 4s 3ms/step - loss: 1.6367 - accuracy: 0.4130 - val_loss: 1.6503 - val_accuracy: 0.4040\n",
      "Epoch 5/30\n",
      "1108/1122 [============================>.] - ETA: 0s - loss: 1.6296 - accuracy: 0.4148\n",
      "Epoch 5: val_accuracy did not improve from 0.41173\n",
      "1122/1122 [==============================] - 4s 3ms/step - loss: 1.6304 - accuracy: 0.4147 - val_loss: 1.6403 - val_accuracy: 0.4101\n",
      "Epoch 6/30\n",
      "1105/1122 [============================>.] - ETA: 0s - loss: 1.6243 - accuracy: 0.4141\n",
      "Epoch 6: val_accuracy improved from 0.41173 to 0.41540, saving model to models\\features_dense.h5\n",
      "1122/1122 [==============================] - 3s 3ms/step - loss: 1.6237 - accuracy: 0.4146 - val_loss: 1.6308 - val_accuracy: 0.4154\n",
      "Epoch 7/30\n",
      "1109/1122 [============================>.] - ETA: 0s - loss: 1.6204 - accuracy: 0.4167\n",
      "Epoch 7: val_accuracy did not improve from 0.41540\n",
      "1122/1122 [==============================] - 3s 3ms/step - loss: 1.6192 - accuracy: 0.4170 - val_loss: 1.6426 - val_accuracy: 0.4142\n",
      "Epoch 8/30\n",
      "1105/1122 [============================>.] - ETA: 0s - loss: 1.6148 - accuracy: 0.4186\n",
      "Epoch 8: val_accuracy did not improve from 0.41540\n",
      "1122/1122 [==============================] - 4s 3ms/step - loss: 1.6148 - accuracy: 0.4187 - val_loss: 1.6351 - val_accuracy: 0.4151\n",
      "Epoch 9/30\n",
      "1122/1122 [==============================] - ETA: 0s - loss: 1.6122 - accuracy: 0.4199\n",
      "Epoch 9: val_accuracy improved from 0.41540 to 0.41741, saving model to models\\features_dense.h5\n",
      "1122/1122 [==============================] - 3s 3ms/step - loss: 1.6122 - accuracy: 0.4199 - val_loss: 1.6271 - val_accuracy: 0.4174\n",
      "Epoch 10/30\n",
      "1106/1122 [============================>.] - ETA: 0s - loss: 1.6080 - accuracy: 0.4216\n",
      "Epoch 10: val_accuracy did not improve from 0.41741\n",
      "1122/1122 [==============================] - 3s 3ms/step - loss: 1.6081 - accuracy: 0.4215 - val_loss: 1.6282 - val_accuracy: 0.4160\n",
      "Epoch 11/30\n",
      "1101/1122 [============================>.] - ETA: 0s - loss: 1.6047 - accuracy: 0.4245\n",
      "Epoch 11: val_accuracy did not improve from 0.41741\n",
      "1122/1122 [==============================] - 3s 3ms/step - loss: 1.6053 - accuracy: 0.4242 - val_loss: 1.6257 - val_accuracy: 0.4154\n",
      "Epoch 12/30\n",
      "1116/1122 [============================>.] - ETA: 0s - loss: 1.6025 - accuracy: 0.4234\n",
      "Epoch 12: val_accuracy improved from 0.41741 to 0.42064, saving model to models\\features_dense.h5\n",
      "1122/1122 [==============================] - 3s 3ms/step - loss: 1.6022 - accuracy: 0.4235 - val_loss: 1.6208 - val_accuracy: 0.4206\n",
      "Epoch 13/30\n",
      "1116/1122 [============================>.] - ETA: 0s - loss: 1.5992 - accuracy: 0.4249\n",
      "Epoch 13: val_accuracy did not improve from 0.42064\n",
      "1122/1122 [==============================] - 3s 3ms/step - loss: 1.5996 - accuracy: 0.4248 - val_loss: 1.6263 - val_accuracy: 0.4121\n",
      "Epoch 14/30\n",
      "1102/1122 [============================>.] - ETA: 0s - loss: 1.5968 - accuracy: 0.4255\n",
      "Epoch 14: val_accuracy did not improve from 0.42064\n",
      "1122/1122 [==============================] - 3s 3ms/step - loss: 1.5963 - accuracy: 0.4258 - val_loss: 1.6279 - val_accuracy: 0.4199\n",
      "Epoch 15/30\n",
      "1101/1122 [============================>.] - ETA: 0s - loss: 1.5943 - accuracy: 0.4254\n",
      "Epoch 15: val_accuracy did not improve from 0.42064\n",
      "1122/1122 [==============================] - 3s 3ms/step - loss: 1.5952 - accuracy: 0.4254 - val_loss: 1.6236 - val_accuracy: 0.4187\n",
      "Epoch 15: early stopping\n"
     ]
    },
    {
     "data": {
      "text/plain": [
       "<keras.callbacks.History at 0x26ab78ef3d0>"
      ]
     },
     "execution_count": 59,
     "metadata": {},
     "output_type": "execute_result"
    }
   ],
   "source": [
    "model.fit(X_train, y_train, validation_data=(X_test, y_test), epochs=30, batch_size=32, callbacks=[es_cb, getModelCheckpoint('features_dense')])"
   ]
  },
  {
   "cell_type": "code",
   "execution_count": 60,
   "id": "490a2f60-7650-4f28-ad4a-b2814af1c868",
   "metadata": {},
   "outputs": [],
   "source": [
    "X_train, X_test, y_train, y_test = train_test_split(df_normalized.drop(columns=['release', 'mode']), genre_labels, test_size=0.2)"
   ]
  },
  {
   "cell_type": "code",
   "execution_count": 62,
   "id": "9f4f8c4f-7244-4b1b-a8a4-d98b76a52828",
   "metadata": {},
   "outputs": [],
   "source": [
    "model2 = tf.keras.Sequential([\n",
    "    Input(shape=(6,)),\n",
    "    Dense(128, activation='relu'),\n",
    "    Dense(64, activation='relu'),\n",
    "    Dense(11, activation='softmax')\n",
    "])\n",
    "\n",
    "model2.compile(optimizer='adam', loss='sparse_categorical_crossentropy', metrics=['accuracy'])"
   ]
  },
  {
   "cell_type": "code",
   "execution_count": 63,
   "id": "b26c5cca-0bb6-4233-80db-070370dfc177",
   "metadata": {},
   "outputs": [
    {
     "name": "stdout",
     "output_type": "stream",
     "text": [
      "Epoch 1/30\n",
      "1119/1122 [============================>.] - ETA: 0s - loss: 1.8417 - accuracy: 0.3511\n",
      "Epoch 1: val_accuracy improved from -inf to 0.36480, saving model to models\\features2_dense.h5\n",
      "1122/1122 [==============================] - 4s 3ms/step - loss: 1.8417 - accuracy: 0.3511 - val_loss: 1.7843 - val_accuracy: 0.3648\n",
      "Epoch 2/30\n",
      "1118/1122 [============================>.] - ETA: 0s - loss: 1.7844 - accuracy: 0.3680\n",
      "Epoch 2: val_accuracy improved from 0.36480 to 0.36971, saving model to models\\features2_dense.h5\n",
      "1122/1122 [==============================] - 4s 3ms/step - loss: 1.7844 - accuracy: 0.3681 - val_loss: 1.7753 - val_accuracy: 0.3697\n",
      "Epoch 3/30\n",
      "1111/1122 [============================>.] - ETA: 0s - loss: 1.7739 - accuracy: 0.3737\n",
      "Epoch 3: val_accuracy improved from 0.36971 to 0.37171, saving model to models\\features2_dense.h5\n",
      "1122/1122 [==============================] - 4s 3ms/step - loss: 1.7735 - accuracy: 0.3740 - val_loss: 1.7701 - val_accuracy: 0.3717\n",
      "Epoch 4/30\n",
      "1117/1122 [============================>.] - ETA: 0s - loss: 1.7666 - accuracy: 0.3747\n",
      "Epoch 4: val_accuracy improved from 0.37171 to 0.37517, saving model to models\\features2_dense.h5\n",
      "1122/1122 [==============================] - 3s 3ms/step - loss: 1.7671 - accuracy: 0.3745 - val_loss: 1.7666 - val_accuracy: 0.3752\n",
      "Epoch 5/30\n",
      "1113/1122 [============================>.] - ETA: 0s - loss: 1.7602 - accuracy: 0.3778\n",
      "Epoch 5: val_accuracy did not improve from 0.37517\n",
      "1122/1122 [==============================] - 3s 3ms/step - loss: 1.7608 - accuracy: 0.3774 - val_loss: 1.7693 - val_accuracy: 0.3752\n",
      "Epoch 6/30\n",
      "1110/1122 [============================>.] - ETA: 0s - loss: 1.7599 - accuracy: 0.3791\n",
      "Epoch 6: val_accuracy improved from 0.37517 to 0.37684, saving model to models\\features2_dense.h5\n",
      "1122/1122 [==============================] - 4s 3ms/step - loss: 1.7590 - accuracy: 0.3793 - val_loss: 1.7617 - val_accuracy: 0.3768\n",
      "Epoch 7/30\n",
      "1119/1122 [============================>.] - ETA: 0s - loss: 1.7555 - accuracy: 0.3801\n",
      "Epoch 7: val_accuracy did not improve from 0.37684\n",
      "1122/1122 [==============================] - 4s 3ms/step - loss: 1.7555 - accuracy: 0.3802 - val_loss: 1.7630 - val_accuracy: 0.3753\n",
      "Epoch 8/30\n",
      "1115/1122 [============================>.] - ETA: 0s - loss: 1.7521 - accuracy: 0.3808\n",
      "Epoch 8: val_accuracy did not improve from 0.37684\n",
      "1122/1122 [==============================] - 4s 4ms/step - loss: 1.7520 - accuracy: 0.3809 - val_loss: 1.7652 - val_accuracy: 0.3742\n",
      "Epoch 9/30\n",
      "1118/1122 [============================>.] - ETA: 0s - loss: 1.7520 - accuracy: 0.3816\n",
      "Epoch 9: val_accuracy did not improve from 0.37684\n",
      "1122/1122 [==============================] - 4s 3ms/step - loss: 1.7515 - accuracy: 0.3818 - val_loss: 1.7579 - val_accuracy: 0.3762\n",
      "Epoch 10/30\n",
      "1111/1122 [============================>.] - ETA: 0s - loss: 1.7480 - accuracy: 0.3820\n",
      "Epoch 10: val_accuracy did not improve from 0.37684\n",
      "1122/1122 [==============================] - 4s 3ms/step - loss: 1.7479 - accuracy: 0.3820 - val_loss: 1.7726 - val_accuracy: 0.3702\n",
      "Epoch 11/30\n",
      "1118/1122 [============================>.] - ETA: 0s - loss: 1.7473 - accuracy: 0.3822\n",
      "Epoch 11: val_accuracy improved from 0.37684 to 0.37717, saving model to models\\features2_dense.h5\n",
      "1122/1122 [==============================] - 4s 3ms/step - loss: 1.7473 - accuracy: 0.3821 - val_loss: 1.7592 - val_accuracy: 0.3772\n",
      "Epoch 12/30\n",
      "1107/1122 [============================>.] - ETA: 0s - loss: 1.7461 - accuracy: 0.3827\n",
      "Epoch 12: val_accuracy improved from 0.37717 to 0.37829, saving model to models\\features2_dense.h5\n",
      "1122/1122 [==============================] - 4s 4ms/step - loss: 1.7462 - accuracy: 0.3828 - val_loss: 1.7617 - val_accuracy: 0.3783\n",
      "Epoch 12: early stopping\n"
     ]
    },
    {
     "data": {
      "text/plain": [
       "<keras.callbacks.History at 0x26ab8f0c430>"
      ]
     },
     "execution_count": 63,
     "metadata": {},
     "output_type": "execute_result"
    }
   ],
   "source": [
    "model2.fit(X_train, y_train, validation_data=(X_test, y_test), epochs=30, batch_size=32, callbacks=[es_cb, getModelCheckpoint('features2_dense')])"
   ]
  },
  {
   "cell_type": "code",
   "execution_count": null,
   "id": "0e7228e7-a8aa-40a8-ad58-2211fa81620f",
   "metadata": {},
   "outputs": [],
   "source": []
  }
 ],
 "metadata": {
  "kernelspec": {
   "display_name": "Python 3 (ipykernel)",
   "language": "python",
   "name": "python3"
  },
  "language_info": {
   "codemirror_mode": {
    "name": "ipython",
    "version": 3
   },
   "file_extension": ".py",
   "mimetype": "text/x-python",
   "name": "python",
   "nbconvert_exporter": "python",
   "pygments_lexer": "ipython3",
   "version": "3.8.8"
  }
 },
 "nbformat": 4,
 "nbformat_minor": 5
}
