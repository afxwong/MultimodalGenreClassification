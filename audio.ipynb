{
 "cells": [
  {
   "cell_type": "code",
   "execution_count": 7,
   "metadata": {},
   "outputs": [],
   "source": [
    "import librosa\n",
    "import librosa.display\n",
    "import numpy as np\n",
    "import matplotlib.pyplot as plt\n",
    "import os\n",
    "import pandas as pd\n",
    "import imageio"
   ]
  },
  {
   "cell_type": "markdown",
   "metadata": {},
   "source": [
    "### Convert the mp3 audio files to mel-spectrograms"
   ]
  },
  {
   "cell_type": "code",
   "execution_count": 8,
   "metadata": {},
   "outputs": [],
   "source": [
    "df = pd.read_pickle('fin.pkl')"
   ]
  },
  {
   "cell_type": "code",
   "execution_count": 9,
   "metadata": {},
   "outputs": [],
   "source": [
    "def mp3_to_mel_spectrogram(mp3_path, output_dir):\n",
    "    # Load the MP3 file\n",
    "    y, sr = librosa.load(mp3_path)\n",
    "    \n",
    "    # Generate the mel-spectrogram\n",
    "    mel_spectrogram = librosa.feature.melspectrogram(y=y, sr=sr)\n",
    "    mel_spectrogram_db = librosa.power_to_db(mel_spectrogram, ref=np.max)\n",
    "\n",
    "    current_shape = mel_spectrogram_db.shape\n",
    "    desired_shape = (128, 1292)\n",
    "    \n",
    "    if current_shape == desired_shape:\n",
    "        # If the shape is already correct, no need to modify\n",
    "        return mel_spectrogram_db\n",
    "    elif current_shape[1] < desired_shape[1]:\n",
    "        # If the number of time frames is less than desired, pad the spectrogram\n",
    "        pad_width = ((0, 0), (0, desired_shape[1] - current_shape[1]))\n",
    "        padded_spectrogram = np.pad(mel_spectrogram_db, pad_width, mode='constant')\n",
    "        return padded_spectrogram\n",
    "    elif current_shape[1] > desired_shape[1]:\n",
    "        # If the number of time frames is greater than desired, truncate the spectrogram\n",
    "        truncated_spectrogram = mel_spectrogram_db[:, :desired_shape[1]]\n",
    "        return truncated_spectrogram"
   ]
  },
  {
   "cell_type": "code",
   "execution_count": 10,
   "metadata": {},
   "outputs": [],
   "source": [
    "    # # Save the mel-spectrogram as an image\n",
    "    # filename = os.path.basename(mp3_path).replace('.mp3', '.png')\n",
    "    # output_path = os.path.join(output_dir, filename)\n",
    "\n",
    "    # # imageio.imsave(output_path, mel_spectrogram_db.astype(np.uint8))\n",
    "    \n",
    "    # plt.figure(figsize=(20, 6))\n",
    "    # librosa.display.specshow(mel_spectrogram_db, x_axis='time', y_axis='mel')\n",
    "    # plt.colorbar(format='%+2.0f dB')\n",
    "    # plt.title('Mel-Spectrogram')\n",
    "    # plt.savefig(output_path)\n",
    "    # plt.close()"
   ]
  },
  {
   "cell_type": "code",
   "execution_count": 11,
   "metadata": {},
   "outputs": [],
   "source": [
    "input_directory = 'data/music4all/audios'\n",
    "output_directory = 'data/music4all/spectrograms'"
   ]
  },
  {
   "cell_type": "code",
   "execution_count": 13,
   "metadata": {},
   "outputs": [
    {
     "name": "stdout",
     "output_type": "stream",
     "text": [
      "count:  0\n",
      "count:  1000\n",
      "count:  2000\n",
      "count:  3000\n",
      "count:  4000\n",
      "count:  5000\n",
      "count:  6000\n",
      "count:  7000\n",
      "count:  8000\n",
      "count:  9000\n",
      "count:  10000\n",
      "count:  11000\n",
      "count:  12000\n",
      "count:  13000\n",
      "count:  14000\n",
      "count:  15000\n",
      "count:  16000\n",
      "count:  17000\n",
      "count:  18000\n",
      "count:  19000\n",
      "count:  20000\n",
      "count:  21000\n",
      "count:  22000\n",
      "count:  23000\n",
      "count:  24000\n",
      "count:  25000\n",
      "count:  26000\n",
      "count:  27000\n",
      "count:  28000\n",
      "count:  29000\n",
      "count:  30000\n",
      "count:  31000\n",
      "count:  32000\n",
      "count:  33000\n",
      "count:  34000\n",
      "count:  35000\n",
      "count:  36000\n",
      "count:  37000\n",
      "count:  38000\n",
      "count:  39000\n",
      "count:  40000\n",
      "count:  41000\n",
      "count:  42000\n",
      "count:  43000\n",
      "count:  44000\n",
      "count:  45000\n",
      "count:  46000\n",
      "count:  47000\n",
      "count:  48000\n",
      "count:  49000\n",
      "count:  50000\n",
      "count:  51000\n",
      "count:  52000\n",
      "count:  53000\n",
      "count:  54000\n",
      "count:  55000\n",
      "count:  56000\n",
      "count:  57000\n",
      "count:  58000\n",
      "count:  59000\n",
      "count:  60000\n",
      "count:  61000\n",
      "count:  62000\n",
      "count:  63000\n",
      "count:  64000\n",
      "count:  65000\n",
      "count:  66000\n",
      "count:  67000\n",
      "count:  68000\n",
      "count:  69000\n",
      "count:  70000\n",
      "count:  71000\n",
      "count:  72000\n",
      "count:  73000\n",
      "count:  74000\n",
      "count:  75000\n",
      "count:  76000\n",
      "count:  77000\n",
      "count:  78000\n",
      "count:  79000\n",
      "count:  80000\n",
      "count:  81000\n",
      "count:  82000\n",
      "count:  83000\n",
      "count:  84000\n",
      "count:  85000\n",
      "count:  86000\n",
      "count:  87000\n",
      "count:  88000\n",
      "count:  89000\n",
      "count:  90000\n",
      "count:  91000\n",
      "count:  92000\n",
      "count:  93000\n",
      "count:  94000\n",
      "count:  95000\n",
      "count:  96000\n",
      "count:  97000\n",
      "count:  98000\n",
      "count:  99000\n",
      "count:  100000\n",
      "count:  101000\n",
      "count:  102000\n",
      "count:  103000\n",
      "count:  104000\n",
      "count:  105000\n",
      "count:  106000\n",
      "count:  107000\n",
      "count:  108000\n",
      "count:  109000\n"
     ]
    }
   ],
   "source": [
    "temp = []\n",
    "\n",
    "count = 0\n",
    "for filename in os.listdir(input_directory):\n",
    "    if count % 1000 == 0:\n",
    "        print(\"count: \", count)\n",
    "    count += 1\n",
    "    if filename.endswith('.mp3'):\n",
    "        song_id = filename.split('.')[0]  # Extract the song ID from the filename\n",
    "        if song_id in df['id'].values:  # Assuming 'song_id' is the column name in your DataFrame\n",
    "            mp3_path = os.path.join(input_directory, filename)\n",
    "            temp.append(mp3_to_mel_spectrogram(mp3_path, output_directory))"
   ]
  },
  {
   "cell_type": "code",
   "execution_count": 16,
   "metadata": {},
   "outputs": [
    {
     "name": "stdout",
     "output_type": "stream",
     "text": [
      "44860\n",
      "<class 'numpy.ndarray'>\n"
     ]
    }
   ],
   "source": [
    "print(len(temp))\n",
    "print(type(temp[0]))"
   ]
  },
  {
   "cell_type": "code",
   "execution_count": 21,
   "metadata": {},
   "outputs": [],
   "source": [
    "# Create a new HDF5 file\n",
    "with h5py.File('large_data.h5', 'w') as hf:\n",
    "    chunk_size = 100  # Set your desired chunk size\n",
    "\n",
    "    # Create a dataset with chunking enabled\n",
    "    dset = hf.create_dataset('data', shape=(len(temp), 128, 1292), dtype='float32', chunks=(chunk_size, 128, 1292))\n",
    "\n",
    "    # Write data in chunks\n",
    "    for i in range(0, len(temp), chunk_size):\n",
    "        dset[i:i+chunk_size] = temp[i:i+chunk_size]"
   ]
  },
  {
   "cell_type": "markdown",
   "metadata": {},
   "source": [
    "### Train a CNN on the mel-spectrograms"
   ]
  },
  {
   "cell_type": "code",
   "execution_count": null,
   "metadata": {},
   "outputs": [],
   "source": [
    "from sklearn.preprocessing import LabelEncoder\n",
    "from sklearn.model_selection import train_test_split\n",
    "\n",
    "fin_fil_df = pd.read_pickle('fin.pkl')\n",
    "\n",
    "encoder = LabelEncoder()\n",
    "\n",
    "labels = fin_fil_df['genre']\n",
    "\n",
    "genre_labels = encoder.fit_transform(labels)\n",
    "\n",
    "print(encoder.classes_)"
   ]
  },
  {
   "cell_type": "code",
   "execution_count": null,
   "metadata": {},
   "outputs": [],
   "source": [
    "chunk_size = 100  # Set your desired chunk size\n",
    "# Create an HDF5 file with specified file size\n",
    "with h5py.File('spectrogram.h5', 'w', libver='latest', libtiff=0) as hf:\n",
    "    max_shape = (44860, 128, 1292)\n",
    "    dset = hf.create_dataset('data', shape=max_shape, dtype='float32', maxshape=max_shape, chunks=True)\n",
    "\n",
    "    # Write data in chunks\n",
    "    for i in range(0, 44860, chunk_size):\n",
    "        dset[i:i+chunk_size] = your_data[i:i+chunk_size]"
   ]
  },
  {
   "cell_type": "code",
   "execution_count": null,
   "metadata": {},
   "outputs": [],
   "source": [
    "X_train, X_test, y_train, y_test = train_test_split(dset, genre_labels, test_size=0.2)"
   ]
  }
 ],
 "metadata": {
  "kernelspec": {
   "display_name": "Python 3 (ipykernel)",
   "language": "python",
   "name": "python3"
  },
  "language_info": {
   "codemirror_mode": {
    "name": "ipython",
    "version": 3
   },
   "file_extension": ".py",
   "mimetype": "text/x-python",
   "name": "python",
   "nbconvert_exporter": "python",
   "pygments_lexer": "ipython3",
   "version": "3.8.8"
  }
 },
 "nbformat": 4,
 "nbformat_minor": 4
}
